{
  "nbformat": 4,
  "nbformat_minor": 0,
  "metadata": {
    "colab": {
      "name": "Selected Project.ipynb",
      "provenance": [],
      "collapsed_sections": [],
      "authorship_tag": "ABX9TyNQva3u8wz579t5xQjo5f70",
      "include_colab_link": true
    },
    "kernelspec": {
      "name": "python3",
      "display_name": "Python 3"
    },
    "language_info": {
      "name": "python"
    },
    "accelerator": "GPU"
  },
  "cells": [
    {
      "cell_type": "markdown",
      "metadata": {
        "id": "view-in-github",
        "colab_type": "text"
      },
      "source": [
        "<a href=\"https://colab.research.google.com/github/mamdouhmashaal/Selected-2-Team-ID-24/blob/main/Selected_Project.ipynb\" target=\"_parent\"><img src=\"https://colab.research.google.com/assets/colab-badge.svg\" alt=\"Open In Colab\"/></a>"
      ]
    },
    {
      "cell_type": "code",
      "execution_count": null,
      "metadata": {
        "id": "OkrxpjU0l1MH"
      },
      "outputs": [],
      "source": [
        "import os\n",
        "os.environ['KAGGLE_USERNAME'] = \"mamdouhmashaal\" \n",
        "os.environ['KAGGLE_KEY'] = \"a80acd5c04aa81504299cd7a0e73699a\" "
      ]
    },
    {
      "cell_type": "code",
      "source": [
        "!kaggle datasets download -d vijaygiitk/multiclass-weather-dataset"
      ],
      "metadata": {
        "colab": {
          "base_uri": "https://localhost:8080/"
        },
        "id": "PADlCjX8mEMa",
        "outputId": "5a32698f-49d9-41ef-e56c-12e8f5228658"
      },
      "execution_count": null,
      "outputs": [
        {
          "output_type": "stream",
          "name": "stdout",
          "text": [
            "multiclass-weather-dataset.zip: Skipping, found more recently modified local copy (use --force to force download)\n"
          ]
        }
      ]
    },
    {
      "cell_type": "code",
      "source": [
        "# Unzip training data\n",
        "from zipfile import ZipFile\n",
        "file_name = \"/content/multiclass-weather-dataset.zip\"\n",
        "with ZipFile(file_name, 'r') as zip:\n",
        "  zip.extractall()\n",
        "  print('done')"
      ],
      "metadata": {
        "colab": {
          "base_uri": "https://localhost:8080/"
        },
        "id": "842zrnUlmEUV",
        "outputId": "9245d9e6-7db4-4173-fe22-6cb253f7a82b"
      },
      "execution_count": null,
      "outputs": [
        {
          "output_type": "stream",
          "name": "stdout",
          "text": [
            "done\n"
          ]
        }
      ]
    },
    {
      "cell_type": "code",
      "source": [
        "import warnings\n",
        "warnings.filterwarnings('ignore')\n",
        "# Get all the paths\n",
        "data_dir_list = os.listdir('/content/dataset')\n",
        "print(data_dir_list)\n",
        "path, dirs, files = next(os.walk(\"/content/dataset\"))\n",
        "file_count = len(files)\n",
        "# print(file_count)"
      ],
      "metadata": {
        "colab": {
          "base_uri": "https://localhost:8080/"
        },
        "id": "DxfQP-ftmEW7",
        "outputId": "f32e7ee5-c538-4723-9c56-d0d9e8426835"
      },
      "execution_count": null,
      "outputs": [
        {
          "output_type": "stream",
          "name": "stdout",
          "text": [
            "['sunrise', 'foggy', 'shine', 'test.csv', 'rainy', 'alien_test', 'cloudy']\n"
          ]
        }
      ]
    },
    {
      "cell_type": "code",
      "source": [
        "# Make new base directory\n",
        "original_dataset_dir = '/content/dataset'\n",
        "base_dir = '/content/weather-data/'\n",
        "os.mkdir(base_dir)"
      ],
      "metadata": {
        "id": "sDlhnWn3mEZa"
      },
      "execution_count": null,
      "outputs": []
    },
    {
      "cell_type": "code",
      "source": [
        "#create two folders (train and validation)\n",
        "train_dir = os.path.join(base_dir, 'train')\n",
        "os.mkdir(train_dir)\n",
        "\n",
        "validation_dir = os.path.join(base_dir, 'validation')\n",
        "os.mkdir(validation_dir)\n",
        "\n",
        "#Under train folder create five folders \n",
        "# (cloud, folly, rainy, shine, sunrise)\n",
        "\n",
        "train_cloud_dir = os.path.join(train_dir, 'cloudy')\n",
        "os.mkdir(train_cloud_dir)\n",
        "\n",
        "train_foggy_dir = os.path.join(train_dir, 'foggy')\n",
        "os.mkdir(train_foggy_dir)\n",
        "\n",
        "train_rainy_dir = os.path.join(train_dir, 'rainy')\n",
        "os.mkdir(train_rainy_dir)\n",
        "\n",
        "train_shine_dir = os.path.join(train_dir, 'shine')\n",
        "os.mkdir(train_shine_dir)\n",
        "\n",
        "train_sunrise_dir = os.path.join(train_dir, 'sunrise')\n",
        "os.mkdir(train_sunrise_dir)\n",
        "\n",
        "#Under validation folder create five folders \n",
        "# (cloud, folly, rainy, shine, sunrise)\n",
        "\n",
        "validation_cloud_dir = os.path.join(validation_dir, 'cloudy')\n",
        "os.mkdir(validation_cloud_dir)\n",
        "\n",
        "validation_foggy_dir = os.path.join(validation_dir, 'foggy')\n",
        "os.mkdir(validation_foggy_dir)\n",
        "\n",
        "validation_rainy_dir = os.path.join(validation_dir, 'rainy')\n",
        "os.mkdir(validation_rainy_dir)\n",
        "\n",
        "validation_shine_dir = os.path.join(validation_dir, 'shine')\n",
        "os.mkdir(validation_shine_dir)\n",
        "\n",
        "validation_sunrise_dir = os.path.join(validation_dir, 'sunrise')\n",
        "os.mkdir(validation_sunrise_dir)"
      ],
      "metadata": {
        "id": "piuPeag-mEba"
      },
      "execution_count": null,
      "outputs": []
    },
    {
      "cell_type": "code",
      "source": [
        "def split_data(SOURCE, TRAINING, VALIDATION, SPLIT_SIZE):\n",
        "    files = []\n",
        "    for filename in os.listdir(SOURCE):\n",
        "        file = SOURCE + filename\n",
        "        if os.path.getsize(file) > 0:\n",
        "            files.append(filename)\n",
        "        else:\n",
        "            print(filename + \" is zero length, so ignoring.\")\n",
        "\n",
        "    training_length = int(len(files) * SPLIT_SIZE)\n",
        "    valid_length = int(len(files) - training_length)\n",
        "    shuffled_set = random.sample(files, len(files))\n",
        "    training_set = shuffled_set[0:training_length]\n",
        "    valid_set = shuffled_set[training_length:]\n",
        "\n",
        "    for filename in training_set:\n",
        "        this_file = SOURCE + filename\n",
        "        destination = TRAINING + filename\n",
        "        copyfile(this_file, destination)\n",
        "\n",
        "    for filename in valid_set:\n",
        "        this_file = SOURCE + filename\n",
        "        destination = VALIDATION + filename\n",
        "        copyfile(this_file, destination)"
      ],
      "metadata": {
        "id": "PgrFxEI1mMXF"
      },
      "execution_count": null,
      "outputs": []
    },
    {
      "cell_type": "code",
      "source": [
        "CLOUDY_SOURCE_DIR = '/content/dataset/cloudy/'\n",
        "TRAINING_CLOUDY_DIR = '/content/weather-data/train/cloudy/'\n",
        "VALID_CLOUDY_DIR = '/content/weather-data/validation/cloudy/'\n",
        "\n",
        "FOGGY_SOURCE_DIR = '/content/dataset/foggy/'\n",
        "TRAINING_FOGGY_DIR = '/content/weather-data/train/foggy/'\n",
        "VALID_FOGGY_DIR = '/content/weather-data/validation/foggy/'\n",
        "\n",
        "RAINY_SOURCE_DIR = '/content/dataset/rainy/'\n",
        "TRAINING_RAINY_DIR = '/content/weather-data/train/rainy/'\n",
        "VALID_RAINY_DIR = '/content/weather-data/validation/rainy/'\n",
        "\n",
        "SHINE_SOURCE_DIR = '/content/dataset/shine/'\n",
        "TRAINING_SHINE_DIR = '/content/weather-data/train/shine/'\n",
        "VALID_SHINE_DIR = '/content/weather-data/validation/shine/'\n",
        "\n",
        "SUNRISE_SOURCE_DIR = '/content/dataset/sunrise/'\n",
        "TRAINING_SUNRISE_DIR = '/content/weather-data/train/sunrise/'\n",
        "VALID_SUNRISE_DIR = '/content/weather-data/validation/sunrise/'"
      ],
      "metadata": {
        "id": "W380ZXIBmMdp"
      },
      "execution_count": null,
      "outputs": []
    },
    {
      "cell_type": "code",
      "source": [
        "import os\n",
        "import random\n",
        "from shutil import copyfile\n",
        "\n",
        "split_size = .75\n",
        "\n",
        "split_data(CLOUDY_SOURCE_DIR, TRAINING_CLOUDY_DIR, VALID_CLOUDY_DIR, split_size)\n",
        "split_data(FOGGY_SOURCE_DIR, TRAINING_FOGGY_DIR, VALID_FOGGY_DIR, split_size)\n",
        "split_data(RAINY_SOURCE_DIR, TRAINING_RAINY_DIR, VALID_RAINY_DIR, split_size)\n",
        "split_data(SHINE_SOURCE_DIR, TRAINING_SHINE_DIR, VALID_SHINE_DIR, split_size)\n",
        "split_data(SUNRISE_SOURCE_DIR, TRAINING_SUNRISE_DIR, VALID_SUNRISE_DIR, split_size)"
      ],
      "metadata": {
        "id": "qwT5KZ7ZmP6q"
      },
      "execution_count": null,
      "outputs": []
    },
    {
      "cell_type": "code",
      "source": [
        "\n",
        "import matplotlib.pyplot as plt\n",
        "import seaborn as sns\n",
        "from matplotlib.image import imread\n",
        "import pathlib\n",
        "import cv2\n",
        "\n",
        "image_folder = ['cloudy', 'foggy', 'rainy', 'shine', 'sunrise']\n",
        "nimgs = {}\n",
        "for i in image_folder:\n",
        "    nimages = len(os.listdir('/content/weather-data/train/'+i+'/'))\n",
        "    nimgs[i]=nimages\n",
        "plt.figure(figsize=(9, 6))\n",
        "plt.bar(range(len(nimgs)), list(nimgs.values()), align='center')\n",
        "plt.xticks(range(len(nimgs)), list(nimgs.keys()))\n",
        "plt.title('Distribution of different classes in Training Dataset')\n",
        "plt.show()"
      ],
      "metadata": {
        "colab": {
          "base_uri": "https://localhost:8080/",
          "height": 390
        },
        "id": "TQXPgGqImP_q",
        "outputId": "11e1d60e-1e68-49c9-9680-f2feafe0e46a"
      },
      "execution_count": null,
      "outputs": [
        {
          "output_type": "display_data",
          "data": {
            "text/plain": [
              "<Figure size 648x432 with 1 Axes>"
            ],
            "image/png": "[encoded data removed]"
          },
          "metadata": {
            "needs_background": "light"
          }
        }
      ]
    },
    {
      "cell_type": "code",
      "source": [
        "for i in ['cloudy', 'foggy', 'rainy', 'shine', 'sunrise']:\n",
        "    print('Training {} images are: '.format(i)+str(len(os.listdir('/content/weather-data/train/'+i+'/'))))"
      ],
      "metadata": {
        "colab": {
          "base_uri": "https://localhost:8080/"
        },
        "id": "5UlaGJRsmcR3",
        "outputId": "711c594a-b924-4eae-b36d-578ed54079cd"
      },
      "execution_count": null,
      "outputs": [
        {
          "output_type": "stream",
          "name": "stdout",
          "text": [
            "Training cloudy images are: 225\n",
            "Training foggy images are: 225\n",
            "Training rainy images are: 225\n",
            "Training shine images are: 187\n",
            "Training sunrise images are: 262\n"
          ]
        }
      ]
    },
    {
      "cell_type": "code",
      "source": [
        "\n",
        "\n",
        "image_folder = ['cloudy', 'foggy', 'rainy', 'shine', 'sunrise']\n",
        "nimgs = {}\n",
        "for i in image_folder:\n",
        "    nimages = len(os.listdir('/content/weather-data/train/'+i+'/'))\n",
        "    nimgs[i]=nimages\n",
        "plt.figure(figsize=(9, 6))\n",
        "plt.bar(range(len(nimgs)), list(nimgs.values()), align='center')\n",
        "plt.xticks(range(len(nimgs)), list(nimgs.keys()))\n",
        "plt.title('Distribution of different classes in Testing Dataset')\n",
        "plt.show()"
      ],
      "metadata": {
        "colab": {
          "base_uri": "https://localhost:8080/",
          "height": 390
        },
        "id": "IZiIlUaXme8-",
        "outputId": "51f76309-ad8e-4127-b11c-2b77a377bb91"
      },
      "execution_count": null,
      "outputs": [
        {
          "output_type": "display_data",
          "data": {
            "text/plain": [
              "<Figure size 648x432 with 1 Axes>"
            ],
            "image/png": "[encoded data removed]"
          },
          "metadata": {
            "needs_background": "light"
          }
        }
      ]
    },
    {
      "cell_type": "code",
      "source": [
        "for i in ['cloudy', 'foggy', 'rainy', 'shine', 'sunrise']:\n",
        "    print('Valid {} images are: '.format(i)+str(len(os.listdir('/content/weather-data/validation/'+i+'/'))))"
      ],
      "metadata": {
        "colab": {
          "base_uri": "https://localhost:8080/"
        },
        "id": "1hT8n33lmgd0",
        "outputId": "a9c566d6-e92d-465b-d119-c772a35a45e9"
      },
      "execution_count": null,
      "outputs": [
        {
          "output_type": "stream",
          "name": "stdout",
          "text": [
            "Valid cloudy images are: 75\n",
            "Valid foggy images are: 75\n",
            "Valid rainy images are: 75\n",
            "Valid shine images are: 63\n",
            "Valid sunrise images are: 88\n"
          ]
        }
      ]
    },
    {
      "cell_type": "code",
      "source": [
        "from tensorflow.keras.optimizers import Adam\n",
        "from tensorflow.keras.preprocessing.image import ImageDataGenerator\n",
        "from tensorflow.keras.layers import Conv2D, MaxPool2D, Flatten, Dense, Dropout,BatchNormalization,Add,GlobalAveragePooling2D\n",
        "from tensorflow.keras.models import Sequential\n",
        "from tensorflow.keras.callbacks import EarlyStopping, ModelCheckpoint\n",
        "from tensorflow.keras.models import Model\n",
        "import tensorflow as tf"
      ],
      "metadata": {
        "id": "T9USd9BVmh3m"
      },
      "execution_count": null,
      "outputs": []
    },
    {
      "cell_type": "code",
      "source": [
        "img_width=256; img_height=256\n",
        "batch_size=16"
      ],
      "metadata": {
        "id": "gDZan77GmjBq"
      },
      "execution_count": null,
      "outputs": []
    },
    {
      "cell_type": "code",
      "source": [
        "TRAINING_DIR = '/content/weather-data/train/'\n",
        "\n",
        "train_datagen = ImageDataGenerator(rescale = 1/255.0,\n",
        "                                   rotation_range=30,\n",
        "                                   zoom_range=0.4,\n",
        "                                   horizontal_flip=True)\n",
        "\n",
        "train_generator = train_datagen.flow_from_directory(TRAINING_DIR,\n",
        "                                                    batch_size=batch_size,\n",
        "                                                    class_mode='categorical',\n",
        "                                                    target_size=(img_height, img_width))"
      ],
      "metadata": {
        "colab": {
          "base_uri": "https://localhost:8080/"
        },
        "id": "rhIcE-famkXN",
        "outputId": "7a7012dd-52cf-4883-a281-c089b05ad2a7"
      },
      "execution_count": null,
      "outputs": [
        {
          "output_type": "stream",
          "name": "stdout",
          "text": [
            "Found 1124 images belonging to 5 classes.\n"
          ]
        }
      ]
    },
    {
      "cell_type": "code",
      "source": [
        "VALIDATION_DIR = '/content/weather-data/validation/'\n",
        "\n",
        "validation_datagen = ImageDataGenerator(rescale = 1/255.0)\n",
        "\n",
        "validation_generator = validation_datagen.flow_from_directory(VALIDATION_DIR,\n",
        "                                                              batch_size=batch_size,\n",
        "                                                              class_mode='categorical',\n",
        "                                                              target_size=(img_height, img_width)\n",
        "                                                             )"
      ],
      "metadata": {
        "colab": {
          "base_uri": "https://localhost:8080/"
        },
        "id": "Ld1B4EWaml9y",
        "outputId": "6646d986-f459-451e-ebd3-f7bdf2123065"
      },
      "execution_count": null,
      "outputs": [
        {
          "output_type": "stream",
          "name": "stdout",
          "text": [
            "Found 376 images belonging to 5 classes.\n"
          ]
        }
      ]
    },
    {
      "cell_type": "code",
      "source": [
        "callbacks = EarlyStopping(monitor='val_loss', patience=5, verbose=1, mode='auto')\n",
        "# autosave best Model\n",
        "best_model_file = '/content/CNN_aug_best_weights.h5'\n",
        "best_model = ModelCheckpoint(best_model_file, monitor='val_acc', verbose = 1, save_best_only = True)"
      ],
      "metadata": {
        "id": "GeJkdKNAmnKb"
      },
      "execution_count": null,
      "outputs": []
    },
    {
      "cell_type": "code",
      "source": [
        "class ResnetBlock(Model):\n",
        "    \"\"\"\n",
        "    A standard resnet block.\n",
        "    \"\"\"\n",
        "\n",
        "    def __init__(self, channels: int, down_sample=False):\n",
        "        \"\"\"\n",
        "        channels: same as number of convolution kernels\n",
        "        \"\"\"\n",
        "        super().__init__()\n",
        "\n",
        "        self.__channels = channels\n",
        "        self.__down_sample = down_sample\n",
        "        self.__strides = [2, 1] if down_sample else [1, 1]\n",
        "\n",
        "        KERNEL_SIZE = (3, 3)\n",
        "        # use He initialization, instead of Xavier (a.k.a 'glorot_uniform' in Keras), as suggested in [2]\n",
        "        INIT_SCHEME = \"he_normal\"\n",
        "\n",
        "        self.conv_1 = Conv2D(self.__channels, strides=self.__strides[0],\n",
        "                             kernel_size=KERNEL_SIZE, padding=\"same\", kernel_initializer=INIT_SCHEME)\n",
        "        self.bn_1 = BatchNormalization()\n",
        "        self.conv_2 = Conv2D(self.__channels, strides=self.__strides[1],\n",
        "                             kernel_size=KERNEL_SIZE, padding=\"same\", kernel_initializer=INIT_SCHEME)\n",
        "        self.bn_2 = BatchNormalization()\n",
        "        self.merge = Add()\n",
        "\n",
        "        if self.__down_sample:\n",
        "            # perform down sampling using stride of 2, according to [1].\n",
        "            self.res_conv = Conv2D(\n",
        "                self.__channels, strides=2, kernel_size=(1, 1), kernel_initializer=INIT_SCHEME, padding=\"same\")\n",
        "            self.res_bn = BatchNormalization()\n",
        "\n",
        "    def call(self, inputs):\n",
        "        res = inputs\n",
        "\n",
        "        x = self.conv_1(inputs)\n",
        "        x = self.bn_1(x)\n",
        "        x = tf.nn.relu(x)\n",
        "        x = self.conv_2(x)\n",
        "        x = self.bn_2(x)\n",
        "\n",
        "        if self.__down_sample:\n",
        "            res = self.res_conv(res)\n",
        "            res = self.res_bn(res)\n",
        "\n",
        "        # if not perform down sample, then add a shortcut directly\n",
        "        x = self.merge([x, res])\n",
        "        out = tf.nn.relu(x)\n",
        "        return out\n",
        "\n",
        "\n",
        "class ResNet18(Model):\n",
        "\n",
        "    def __init__(self, num_classes, **kwargs):\n",
        "        \"\"\"\n",
        "            num_classes: number of classes in specific classification task.\n",
        "        \"\"\"\n",
        "        super().__init__(**kwargs)\n",
        "        self.conv_1 = Conv2D(64, (7, 7), strides=2,\n",
        "                             padding=\"same\", kernel_initializer=\"he_normal\")\n",
        "        self.init_bn = BatchNormalization()\n",
        "        self.pool_2 = MaxPool2D(pool_size=(2, 2), strides=2, padding=\"same\")\n",
        "        self.res_1_1 = ResnetBlock(64)\n",
        "        self.res_1_2 = ResnetBlock(64)\n",
        "        self.res_2_1 = ResnetBlock(128, down_sample=True)\n",
        "        self.res_2_2 = ResnetBlock(128)\n",
        "        self.res_3_1 = ResnetBlock(256, down_sample=True)\n",
        "        self.res_3_2 = ResnetBlock(256)\n",
        "        self.res_4_1 = ResnetBlock(512, down_sample=True)\n",
        "        self.res_4_2 = ResnetBlock(512)\n",
        "        self.avg_pool = GlobalAveragePooling2D()\n",
        "        self.flat = Flatten()\n",
        "        self.fc = Dense(num_classes, activation=\"softmax\")\n",
        "\n",
        "    def call(self, inputs):\n",
        "        out = self.conv_1(inputs)\n",
        "        out = self.init_bn(out)\n",
        "        out = tf.nn.relu(out)\n",
        "        out = self.pool_2(out)\n",
        "        for res_block in [self.res_1_1, self.res_1_2, self.res_2_1, self.res_2_2, self.res_3_1, self.res_3_2, self.res_4_1, self.res_4_2]:\n",
        "            out = res_block(out)\n",
        "        out = self.avg_pool(out)\n",
        "        out = self.flat(out)\n",
        "        out = self.fc(out)\n",
        "        return out"
      ],
      "metadata": {
        "id": "_39TdgpdmsHd"
      },
      "execution_count": null,
      "outputs": []
    },
    {
      "cell_type": "code",
      "source": [
        "model = ResNet18(5)\n",
        "model.build(input_shape = (None,32,32,3))\n",
        "from tensorflow.keras.optimizers import SGD\n",
        "opt = SGD(learning_rate=0.15,momentum=0.9,decay = 1e-04) \n",
        "model.compile(optimizer='Adam', \n",
        "              loss='categorical_crossentropy', \n",
        "              metrics =['accuracy'])\n",
        "model.summary()"
      ],
      "metadata": {
        "colab": {
          "base_uri": "https://localhost:8080/"
        },
        "id": "6ukh0fp7mteY",
        "outputId": "b6126015-2468-4956-ef9c-13007abb82d7"
      },
      "execution_count": null,
      "outputs": [
        {
          "output_type": "stream",
          "name": "stdout",
          "text": [
            "WARNING:tensorflow:AutoGraph could not transform <bound method ResnetBlock.call of <__main__.ResnetBlock object at 0x7f72afcf3cd0>> and will run it as-is.\n",
            "Cause: mangled names are not yet supported\n",
            "To silence this warning, decorate the function with @tf.autograph.experimental.do_not_convert\n",
            "WARNING: AutoGraph could not transform <bound method ResnetBlock.call of <__main__.ResnetBlock object at 0x7f72afcf3cd0>> and will run it as-is.\n",
            "Cause: mangled names are not yet supported\n",
            "To silence this warning, decorate the function with @tf.autograph.experimental.do_not_convert\n",
            "Model: \"res_net18_10\"\n",
            "_________________________________________________________________\n",
            " Layer (type)                Output Shape              Param #   \n",
            "=================================================================\n",
            " conv2d_200 (Conv2D)         multiple                  9472      \n",
            "                                                                 \n",
            " batch_normalization_200 (Ba  multiple                 256       \n",
            " tchNormalization)                                               \n",
            "                                                                 \n",
            " max_pooling2d_10 (MaxPoolin  multiple                 0         \n",
            " g2D)                                                            \n",
            "                                                                 \n",
            " resnet_block_80 (ResnetBloc  multiple                 74368     \n",
            " k)                                                              \n",
            "                                                                 \n",
            " resnet_block_81 (ResnetBloc  multiple                 74368     \n",
            " k)                                                              \n",
            "                                                                 \n",
            " resnet_block_82 (ResnetBloc  multiple                 231296    \n",
            " k)                                                              \n",
            "                                                                 \n",
            " resnet_block_83 (ResnetBloc  multiple                 296192    \n",
            " k)                                                              \n",
            "                                                                 \n",
            " resnet_block_84 (ResnetBloc  multiple                 921344    \n",
            " k)                                                              \n",
            "                                                                 \n",
            " resnet_block_85 (ResnetBloc  multiple                 1182208   \n",
            " k)                                                              \n",
            "                                                                 \n",
            " resnet_block_86 (ResnetBloc  multiple                 3677696   \n",
            " k)                                                              \n",
            "                                                                 \n",
            " resnet_block_87 (ResnetBloc  multiple                 4723712   \n",
            " k)                                                              \n",
            "                                                                 \n",
            " global_average_pooling2d_10  multiple                 0         \n",
            "  (GlobalAveragePooling2D)                                       \n",
            "                                                                 \n",
            " flatten_10 (Flatten)        multiple                  0         \n",
            "                                                                 \n",
            " dense_10 (Dense)            multiple                  2565      \n",
            "                                                                 \n",
            "=================================================================\n",
            "Total params: 11,193,477\n",
            "Trainable params: 11,183,877\n",
            "Non-trainable params: 9,600\n",
            "_________________________________________________________________\n"
          ]
        }
      ]
    },
    {
      "cell_type": "code",
      "source": [
        "history = model.fit_generator(train_generator,\n",
        "                              epochs=5,\n",
        "                              verbose=1,\n",
        "                              validation_data=validation_generator,\n",
        "                              callbacks = [best_model]\n",
        "                              )"
      ],
      "metadata": {
        "colab": {
          "base_uri": "https://localhost:8080/"
        },
        "id": "B8u6gH8Rm62k",
        "outputId": "702720dd-f257-40bd-f44d-67e647bfbf75"
      },
      "execution_count": null,
      "outputs": [
        {
          "output_type": "stream",
          "name": "stdout",
          "text": [
            "Epoch 1/5\n",
            "71/71 [==============================] - ETA: 0s - loss: 1.3365 - accuracy: 0.5712WARNING:tensorflow:Can save best model only with val_acc available, skipping.\n",
            "71/71 [==============================] - 31s 393ms/step - loss: 1.3365 - accuracy: 0.5712 - val_loss: 120.4691 - val_accuracy: 0.3165\n",
            "Epoch 2/5\n",
            "71/71 [==============================] - ETA: 0s - loss: 0.8237 - accuracy: 0.7011WARNING:tensorflow:Can save best model only with val_acc available, skipping.\n",
            "71/71 [==============================] - 27s 380ms/step - loss: 0.8237 - accuracy: 0.7011 - val_loss: 22.6896 - val_accuracy: 0.2447\n",
            "Epoch 3/5\n",
            "71/71 [==============================] - ETA: 0s - loss: 0.7849 - accuracy: 0.7233WARNING:tensorflow:Can save best model only with val_acc available, skipping.\n",
            "71/71 [==============================] - 27s 386ms/step - loss: 0.7849 - accuracy: 0.7233 - val_loss: 3.1197 - val_accuracy: 0.4867\n",
            "Epoch 4/5\n",
            "71/71 [==============================] - ETA: 0s - loss: 0.6487 - accuracy: 0.7580WARNING:tensorflow:Can save best model only with val_acc available, skipping.\n",
            "71/71 [==============================] - 27s 385ms/step - loss: 0.6487 - accuracy: 0.7580 - val_loss: 11.0898 - val_accuracy: 0.3085\n",
            "Epoch 5/5\n",
            "71/71 [==============================] - ETA: 0s - loss: 0.6335 - accuracy: 0.7847WARNING:tensorflow:Can save best model only with val_acc available, skipping.\n",
            "71/71 [==============================] - 27s 383ms/step - loss: 0.6335 - accuracy: 0.7847 - val_loss: 0.8675 - val_accuracy: 0.7154\n"
          ]
        }
      ]
    },
    {
      "cell_type": "code",
      "source": [
        "acc=history.history['accuracy']\n",
        "val_acc=history.history['val_accuracy']\n",
        "loss=history.history['loss']\n",
        "val_loss=history.history['val_loss']\n",
        "\n",
        "epochs=range(len(acc))\n",
        "\n",
        "fig = plt.figure(figsize=(14,7))\n",
        "plt.plot(epochs, acc, 'r', label=\"Training Accuracy\")\n",
        "plt.plot(epochs, val_acc, 'b', label=\"Validation Accuracy\")\n",
        "plt.xlabel('Epoch')\n",
        "plt.ylabel('Accuracy')\n",
        "plt.title('Training and validation accuracy')\n",
        "plt.legend(loc='lower right')\n",
        "plt.show()"
      ],
      "metadata": {
        "colab": {
          "base_uri": "https://localhost:8080/",
          "height": 458
        },
        "id": "0KL7N7ksm8V-",
        "outputId": "2645d418-e2a5-46b1-8e96-dd271886feee"
      },
      "execution_count": null,
      "outputs": [
        {
          "output_type": "display_data",
          "data": {
            "text/plain": [
              "<Figure size 1008x504 with 1 Axes>"
            ],
            "image/png": "[encoded data removed]"
          },
          "metadata": {
            "needs_background": "light"
          }
        }
      ]
    },
    {
      "cell_type": "code",
      "source": [
        "fig2 = plt.figure(figsize=(14,7))\n",
        "plt.plot(epochs, loss, 'r', label=\"Training Loss\")\n",
        "plt.plot(epochs, val_loss, 'b', label=\"Validation Loss\")\n",
        "plt.legend(loc='upper right')\n",
        "plt.xlabel('Epoch')\n",
        "plt.ylabel('Loss')\n",
        "plt.title('Training and validation loss')"
      ],
      "metadata": {
        "colab": {
          "base_uri": "https://localhost:8080/",
          "height": 476
        },
        "id": "ahSjHDdlm9he",
        "outputId": "7046afaa-979f-49ee-df96-2b65025f1946"
      },
      "execution_count": null,
      "outputs": [
        {
          "output_type": "execute_result",
          "data": {
            "text/plain": [
              "Text(0.5, 1.0, 'Training and validation loss')"
            ]
          },
          "metadata": {},
          "execution_count": 54
        },
        {
          "output_type": "display_data",
          "data": {
            "text/plain": [
              "<Figure size 1008x504 with 1 Axes>"
            ],
            "image/png": "[encoded data removed]"
          },
          "metadata": {
            "needs_background": "light"
          }
        }
      ]
    },
    {
      "cell_type": "code",
      "source": [
        "ModelLoss, ModelAccuracy = model.evaluate(validation_generator)\n",
        "\n",
        "print('Model Loss is {}'.format(ModelLoss))\n",
        "print('Model Accuracy is {}'.format(ModelAccuracy))"
      ],
      "metadata": {
        "colab": {
          "base_uri": "https://localhost:8080/"
        },
        "id": "QKB4R0ktqoW6",
        "outputId": "ee5e0520-6489-42b9-b51d-4518758cd752"
      },
      "execution_count": null,
      "outputs": [
        {
          "output_type": "stream",
          "name": "stdout",
          "text": [
            "24/24 [==============================] - 3s 131ms/step - loss: 0.8675 - accuracy: 0.7154\n",
            "Model Loss is 0.8675402402877808\n",
            "Model Accuracy is 0.7154255509376526\n"
          ]
        }
      ]
    },
    {
      "cell_type": "code",
      "source": [
        "## Test Performance on Test Data\n",
        "import pandas as pd\n",
        "import numpy as np\n",
        "from keras.preprocessing.image import load_img, img_to_array\n",
        "\n",
        "def preprocess_image(path):\n",
        "    img = load_img(path, target_size = (img_height, img_width))\n",
        "    a = img_to_array(img)\n",
        "    a = np.expand_dims(a, axis = 0)\n",
        "    a /= 255.\n",
        "    return a"
      ],
      "metadata": {
        "id": "QA9iKDtNm-7Z"
      },
      "execution_count": null,
      "outputs": []
    },
    {
      "cell_type": "code",
      "source": [
        "# Read Test Images Dir and their labels\n",
        "test_images_dir = '/content/dataset/alien_test/'\n",
        "test_df = pd.read_csv('/content/dataset/test.csv')\n",
        "\n",
        "# put them in a list\n",
        "test_dfToList = test_df['Image_id'].tolist()\n",
        "test_ids = [str(item) for item in test_dfToList]\n",
        "\n",
        "test_images = [test_images_dir+item for item in test_ids]\n",
        "test_preprocessed_images = np.vstack([preprocess_image(fn) for fn in test_images])\n",
        "np.save('/content/test_preproc_CNN.npy', test_preprocessed_images)"
      ],
      "metadata": {
        "id": "tdy8enLmnAVs"
      },
      "execution_count": null,
      "outputs": []
    },
    {
      "cell_type": "code",
      "source": [
        "array = model.predict(test_preprocessed_images, batch_size=1, verbose=1)\n",
        "answer = np.argmax(array, axis=1)\n",
        "print(answer)"
      ],
      "metadata": {
        "colab": {
          "base_uri": "https://localhost:8080/"
        },
        "id": "9LMtYICSnBmn",
        "outputId": "69354cae-1857-4da2-ac0f-256ab7654a23"
      },
      "execution_count": null,
      "outputs": [
        {
          "output_type": "stream",
          "name": "stdout",
          "text": [
            "30/30 [==============================] - 1s 5ms/step\n",
            "[1 0 0 3 1 0 2 1 0 0 4 0 1 1 2 2 2 3 0 1 3 3 0 4 4 4 1 4 1 4]\n"
          ]
        }
      ]
    },
    {
      "cell_type": "code",
      "source": [
        "test_df = pd.read_csv('/content/dataset/test.csv')\n",
        "y_true = test_df['labels']\n",
        "y_pred = array\n",
        "print(y_true)"
      ],
      "metadata": {
        "colab": {
          "base_uri": "https://localhost:8080/"
        },
        "id": "bI7Wr_9TnDBv",
        "outputId": "00a5078d-5638-4b16-918a-758a5ad961e5"
      },
      "execution_count": null,
      "outputs": [
        {
          "output_type": "stream",
          "name": "stdout",
          "text": [
            "0     0\n",
            "1     0\n",
            "2     0\n",
            "3     0\n",
            "4     1\n",
            "5     1\n",
            "6     1\n",
            "7     1\n",
            "8     1\n",
            "9     1\n",
            "10    1\n",
            "11    1\n",
            "12    1\n",
            "13    1\n",
            "14    2\n",
            "15    2\n",
            "16    2\n",
            "17    2\n",
            "18    2\n",
            "19    2\n",
            "20    3\n",
            "21    3\n",
            "22    3\n",
            "23    4\n",
            "24    4\n",
            "25    4\n",
            "26    4\n",
            "27    4\n",
            "28    4\n",
            "29    4\n",
            "Name: labels, dtype: int64\n"
          ]
        }
      ]
    },
    {
      "cell_type": "code",
      "source": [
        "from sklearn.metrics import confusion_matrix\n",
        "conf_mat = confusion_matrix(y_true, answer)\n",
        "conf_mat"
      ],
      "metadata": {
        "colab": {
          "base_uri": "https://localhost:8080/"
        },
        "id": "lAQpjZEKnGLy",
        "outputId": "e4768722-5d19-4963-a58a-aa35588a4665"
      },
      "execution_count": null,
      "outputs": [
        {
          "output_type": "execute_result",
          "data": {
            "text/plain": [
              "array([[2, 1, 0, 1, 0],\n",
              "       [4, 4, 1, 0, 1],\n",
              "       [1, 1, 3, 1, 0],\n",
              "       [1, 0, 0, 2, 0],\n",
              "       [0, 2, 0, 0, 5]])"
            ]
          },
          "metadata": {},
          "execution_count": 61
        }
      ]
    },
    {
      "cell_type": "code",
      "source": [
        "import itertools\n",
        "def plot_confusion_matrix(cm, classes,\n",
        "                          normalize=False,\n",
        "                          title='Confusion matrix',\n",
        "                          cmap=plt.cm.Reds):\n",
        "    \"\"\"\n",
        "    This function prints and plots the confusion matrix.\n",
        "    Normalization can be applied by setting `normalize=True`.\n",
        "    \"\"\"\n",
        "    plt.imshow(cm, interpolation='nearest', cmap=cmap)\n",
        "    plt.title(title)\n",
        "    plt.colorbar()\n",
        "    tick_marks = np.arange(len(classes))\n",
        "    plt.xticks(tick_marks, classes, rotation=45)\n",
        "    plt.yticks(tick_marks, classes)\n",
        "\n",
        "    if normalize:\n",
        "        cm = cm.astype('float') / cm.sum(axis=1)[:, np.newaxis]\n",
        "        cm = cm.round(2)\n",
        "        #print(\"Normalized confusion matrix\")\n",
        "    else:\n",
        "        cm=cm\n",
        "        #print('Confusion matrix, without normalization')\n",
        "\n",
        "    #print(cm)\n",
        "\n",
        "    thresh = cm.max() / 2.\n",
        "    for i, j in itertools.product(range(cm.shape[0]), range(cm.shape[1])):\n",
        "        plt.text(j, i, cm[i, j],\n",
        "                 horizontalalignment=\"center\",\n",
        "                 color=\"white\" if cm[i, j] > thresh else \"black\")\n",
        "\n",
        "    plt.tight_layout()\n",
        "    plt.ylabel('True label')\n",
        "    plt.xlabel('Predicted label')"
      ],
      "metadata": {
        "id": "RpUTCMO0nJPf"
      },
      "execution_count": null,
      "outputs": []
    },
    {
      "cell_type": "code",
      "source": [
        "np.set_printoptions(precision=2)\n",
        "\n",
        "fig1 = plt.figure(figsize=(7,6))\n",
        "plot_confusion_matrix(conf_mat, classes=classes, title='Confusion matrix, without normalization')\n",
        "plt.show()"
      ],
      "metadata": {
        "colab": {
          "base_uri": "https://localhost:8080/",
          "height": 452
        },
        "id": "7Gbi3bl0nK3m",
        "outputId": "b389e9ba-cb31-46f5-8710-a0e072a66723"
      },
      "execution_count": null,
      "outputs": [
        {
          "output_type": "display_data",
          "data": {
            "text/plain": [
              "<Figure size 504x432 with 2 Axes>"
            ],
            "image/png": "[encoded data removed]"
          },
          "metadata": {
            "needs_background": "light"
          }
        }
      ]
    }
  ]
}